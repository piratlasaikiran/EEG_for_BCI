{
 "cells": [
  {
   "cell_type": "code",
   "execution_count": 1,
   "metadata": {},
   "outputs": [
    {
     "name": "stderr",
     "output_type": "stream",
     "text": [
      "Using TensorFlow backend.\n"
     ]
    }
   ],
   "source": [
    "import tensorflow as tf\n",
    "import keras.backend.tensorflow_backend as tfback\n",
    "\n",
    "def _get_available_gpus():\n",
    "    \"\"\"Get a list of available gpu devices (formatted as strings).\n",
    "\n",
    "    # Returns\n",
    "        A list of available GPU devices.\n",
    "    \"\"\"\n",
    "    #global _LOCAL_DEVICES\n",
    "    if tfback._LOCAL_DEVICES is None:\n",
    "        devices = tf.config.list_logical_devices()\n",
    "        tfback._LOCAL_DEVICES = [x.name for x in devices]\n",
    "    return [x for x in tfback._LOCAL_DEVICES if 'device:gpu' in x.lower()]\n",
    "\n",
    "tfback._get_available_gpus = _get_available_gpus\n"
   ]
  },
  {
   "cell_type": "code",
   "execution_count": 2,
   "metadata": {},
   "outputs": [],
   "source": [
    "from keras.models import Sequential, clone_model, Model\n",
    "from keras.layers import Conv2D, MaxPooling2D, Dense, Flatten, concatenate, Input\n",
    "from scipy.stats import zscore\n",
    "from matplotlib import pyplot\n",
    "import pandas as pd\n",
    "import numpy as np"
   ]
  },
  {
   "cell_type": "code",
   "execution_count": 3,
   "metadata": {},
   "outputs": [],
   "source": [
    "def Define_Model():\n",
    "    \n",
    "    model_input = Input(shape=(19,1,50))\n",
    "    x = Conv2D(20, (1, 3), activation='relu', kernel_initializer='glorot_uniform', data_format='channels_first')(model_input)\n",
    "    x = MaxPooling2D((1, 2), data_format='channels_first')(x)\n",
    "    x = Conv2D(40, (1, 3), activation='tanh', kernel_initializer='glorot_uniform', data_format='channels_first')(x)\n",
    "    x = MaxPooling2D((1, 2), data_format='channels_first')(x)\n",
    "    x = Conv2D(60, (1, 3), activation='relu', kernel_initializer='glorot_uniform', data_format='channels_first')(x)\n",
    "    \n",
    "    max_pool_output = MaxPooling2D((1, 3), data_format='channels_first')(x)\n",
    "    conv_output = Conv2D(80, (1, 3), activation='tanh', kernel_initializer='glorot_uniform', data_format='channels_first')(max_pool_output)\n",
    "    \n",
    "    max_pool_output_flattened = Flatten(data_format='channels_first')(max_pool_output)\n",
    "    conv_output_flattened = Flatten(data_format='channels_first')(conv_output)\n",
    "    \n",
    "    combined_layer = concatenate([max_pool_output_flattened, conv_output_flattened])\n",
    "    \n",
    "    deep_mf = Dense(100, activation='relu')(combined_layer)\n",
    "    out = Dense(4, activation='softmax')(deep_mf)\n",
    "    \n",
    "    model = Model(inputs=model_input, outputs=out)\n",
    "    model.compile(optimizer='sgd', loss='categorical_crossentropy', metrics=['accuracy'])\n",
    "    #print(model.summary())\n",
    "    return model  "
   ]
  },
  {
   "cell_type": "code",
   "execution_count": 4,
   "metadata": {},
   "outputs": [],
   "source": [
    "def read_and_reshape_data(filename):\n",
    "    df = pd.read_csv(filename)\n",
    "    df = df.drop(df.columns[[0]], axis=1)\n",
    "    df_num = df.select_dtypes(include=[np.float64])\n",
    "    df_normalized = df_num.apply(zscore)\n",
    "    df[df_normalized.columns] = df_normalized\n",
    "    np_df = df.to_numpy()\n",
    "    reshaped_df = np.reshape(np_df, (50, 140, 23))\n",
    "    return reshaped_df"
   ]
  },
  {
   "cell_type": "code",
   "execution_count": 5,
   "metadata": {},
   "outputs": [],
   "source": [
    "def get_training_and_testing_data(a, axis):\n",
    "    b = np.swapaxes(a, 0, 1)\n",
    "    np.random.shuffle(b)\n",
    "    shuffled_data = np.swapaxes(b, 0, 1)\n",
    "    training_data = np.take(shuffled_data, np.arange(200), axis=1)\n",
    "    testing_data = np.take(shuffled_data, np.arange(200,560), axis=1)\n",
    "    return training_data, testing_data    "
   ]
  },
  {
   "cell_type": "code",
   "execution_count": 6,
   "metadata": {},
   "outputs": [],
   "source": [
    "def get_input_and_labels(data,size):\n",
    "    input_df = data[:,:,0:19]\n",
    "    input_df = np.expand_dims(input_df, axis=3)\n",
    "    input_df = np.moveaxis(input_df, 0, 3)\n",
    "\n",
    "    labels = data[:,:,19:23]\n",
    "    labels_squeezed = labels[1,:,:].reshape(size,4)\n",
    "    \n",
    "    return input_df, labels_squeezed"
   ]
  },
  {
   "cell_type": "code",
   "execution_count": 31,
   "metadata": {},
   "outputs": [],
   "source": [
    "def result_show(history):\n",
    "    #plot the loss graph\n",
    "    pyplot.figure(figsize=(20, 7))\n",
    "    pyplot.tight_layout()\n",
    "    \n",
    "    pyplot.subplot(121)\n",
    "    pyplot.title('Cross entropy loss for multi-scale CNN', size=20)\n",
    "    pyplot.xlabel('epoch', size=15)\n",
    "    pyplot.ylabel('loss', size=15)\n",
    "    pyplot.plot(history.history['loss'],color ='blue',label = 'training')\n",
    "    pyplot.plot(history.history['val_loss'],color ='orange',label ='testing')\n",
    "    #plot accuracy graph\n",
    "    pyplot.subplot(122)\n",
    "    pyplot.title('Accuracy for multi-scale CNN', size=20)\n",
    "    pyplot.xlabel('epoch', size=15)\n",
    "    pyplot.ylabel('accuracy', size=15)\n",
    "    pyplot.plot(history.history['accuracy'],color ='blue',label = 'training')\n",
    "    pyplot.plot(history.history['val_accuracy'],color ='orange',label ='testing')"
   ]
  },
  {
   "cell_type": "code",
   "execution_count": 8,
   "metadata": {},
   "outputs": [],
   "source": [
    "def run_test(training_data, testing_data):\n",
    "    model = Define_Model();\n",
    "    training_input, training_output = get_input_and_labels(training_data, 200)\n",
    "    testing_input, testing_output = get_input_and_labels(testing_data, 360)\n",
    "    \n",
    "    mod = model.fit(training_input, training_output,  batch_size=5, epochs=15, validation_split=0.5)\n",
    "    loss, metrics = model.evaluate(testing_input, testing_output, batch_size=5)\n",
    "    \n",
    "    print('------> %.3f' % (metrics * 100.0))\n",
    "    result_show(mod)\n",
    "    "
   ]
  },
  {
   "cell_type": "code",
   "execution_count": 9,
   "metadata": {},
   "outputs": [],
   "source": [
    "reshaped_rf = read_and_reshape_data('../datasets/rf.csv')\n",
    "reshaped_rb = read_and_reshape_data('../datasets/rb.csv')\n",
    "reshaped_lf = read_and_reshape_data('../datasets/lf.csv')\n",
    "reshaped_lb = read_and_reshape_data('../datasets/lb.csv')"
   ]
  },
  {
   "cell_type": "code",
   "execution_count": 10,
   "metadata": {},
   "outputs": [],
   "source": [
    "combined_data = np.concatenate([reshaped_rf, reshaped_rb, reshaped_lf, reshaped_lb], axis=1)"
   ]
  },
  {
   "cell_type": "code",
   "execution_count": 11,
   "metadata": {},
   "outputs": [],
   "source": [
    "training_data, testing_data = get_training_and_testing_data(combined_data, 1)"
   ]
  },
  {
   "cell_type": "code",
   "execution_count": 32,
   "metadata": {},
   "outputs": [
    {
     "name": "stdout",
     "output_type": "stream",
     "text": [
      "Train on 100 samples, validate on 100 samples\n",
      "Epoch 1/15\n",
      "100/100 [==============================] - 0s 4ms/step - loss: 1.1200 - accuracy: 0.6600 - val_loss: 0.8227 - val_accuracy: 0.9100\n",
      "Epoch 2/15\n",
      "100/100 [==============================] - 0s 2ms/step - loss: 0.6124 - accuracy: 0.9400 - val_loss: 0.4985 - val_accuracy: 0.9100\n",
      "Epoch 3/15\n",
      "100/100 [==============================] - 0s 1ms/step - loss: 0.3477 - accuracy: 0.9800 - val_loss: 0.3084 - val_accuracy: 0.9500\n",
      "Epoch 4/15\n",
      "100/100 [==============================] - 0s 1ms/step - loss: 0.2094 - accuracy: 1.0000 - val_loss: 0.1910 - val_accuracy: 1.0000\n",
      "Epoch 5/15\n",
      "100/100 [==============================] - 0s 1ms/step - loss: 0.1366 - accuracy: 1.0000 - val_loss: 0.1368 - val_accuracy: 1.0000\n",
      "Epoch 6/15\n",
      "100/100 [==============================] - 0s 1ms/step - loss: 0.0937 - accuracy: 1.0000 - val_loss: 0.0966 - val_accuracy: 1.0000\n",
      "Epoch 7/15\n",
      "100/100 [==============================] - 0s 1ms/step - loss: 0.0692 - accuracy: 1.0000 - val_loss: 0.0720 - val_accuracy: 1.0000\n",
      "Epoch 8/15\n",
      "100/100 [==============================] - 0s 1ms/step - loss: 0.0528 - accuracy: 1.0000 - val_loss: 0.0590 - val_accuracy: 1.0000\n",
      "Epoch 9/15\n",
      "100/100 [==============================] - 0s 1ms/step - loss: 0.0421 - accuracy: 1.0000 - val_loss: 0.0481 - val_accuracy: 1.0000\n",
      "Epoch 10/15\n",
      "100/100 [==============================] - 0s 1ms/step - loss: 0.0343 - accuracy: 1.0000 - val_loss: 0.0399 - val_accuracy: 1.0000\n",
      "Epoch 11/15\n",
      "100/100 [==============================] - 0s 1ms/step - loss: 0.0287 - accuracy: 1.0000 - val_loss: 0.0337 - val_accuracy: 1.0000\n",
      "Epoch 12/15\n",
      "100/100 [==============================] - 0s 2ms/step - loss: 0.0244 - accuracy: 1.0000 - val_loss: 0.0290 - val_accuracy: 1.0000\n",
      "Epoch 13/15\n",
      "100/100 [==============================] - 0s 2ms/step - loss: 0.0212 - accuracy: 1.0000 - val_loss: 0.0254 - val_accuracy: 1.0000\n",
      "Epoch 14/15\n",
      "100/100 [==============================] - 0s 1ms/step - loss: 0.0186 - accuracy: 1.0000 - val_loss: 0.0224 - val_accuracy: 1.0000\n",
      "Epoch 15/15\n",
      "100/100 [==============================] - 0s 2ms/step - loss: 0.0164 - accuracy: 1.0000 - val_loss: 0.0201 - val_accuracy: 1.0000\n",
      "360/360 [==============================] - 0s 404us/step\n",
      "------> 100.000\n"
     ]
    },
    {
     "data": {
      "image/png": "[encoded data removed]",
      "text/plain": [
       "<Figure size 1440x504 with 2 Axes>"
      ]
     },
     "metadata": {
      "needs_background": "light"
     },
     "output_type": "display_data"
    }
   ],
   "source": [
    "run_test(training_data, testing_data)"
   ]
  },
  {
   "cell_type": "code",
   "execution_count": null,
   "metadata": {},
   "outputs": [],
   "source": []
  }
 ],
 "metadata": {
  "kernelspec": {
   "display_name": "Python 3",
   "language": "python",
   "name": "python3"
  },
  "language_info": {
   "codemirror_mode": {
    "name": "ipython",
    "version": 3
   },
   "file_extension": ".py",
   "mimetype": "text/x-python",
   "name": "python",
   "nbconvert_exporter": "python",
   "pygments_lexer": "ipython3",
   "version": "3.6.10"
  }
 },
 "nbformat": 4,
 "nbformat_minor": 4
}
